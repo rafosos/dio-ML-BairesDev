{
 "cells": [
  {
   "cell_type": "code",
   "execution_count": 22,
   "metadata": {},
   "outputs": [],
   "source": [
    "from deepface import DeepFace\n",
    "import os"
   ]
  },
  {
   "cell_type": "code",
   "execution_count": 36,
   "metadata": {},
   "outputs": [],
   "source": [
    "test_picture_path = \"data/test/amy_test.jpg\"\n",
    "identidade = \"\""
   ]
  },
  {
   "cell_type": "code",
   "execution_count": null,
   "metadata": {},
   "outputs": [
    {
     "name": "stdout",
     "output_type": "stream",
     "text": [
      "O personagem da foto é: amy\n"
     ]
    }
   ],
   "source": [
    "for name in [f.name for f in os.scandir(\"data/characters/\") if f.is_dir()]:\n",
    "  obj = DeepFace.verify(f\"data/characters/{name}/{name}.jpg\", test_picture_path\n",
    "        , model_name = 'ArcFace', detector_backend = 'retinaface')\n",
    "\n",
    "  if obj['verified']:\n",
    "    identidade = name\n",
    "    break\n",
    "\n",
    "print(\"O personagem da foto é: \" + identidade)"
   ]
  }
 ],
 "metadata": {
  "kernelspec": {
   "display_name": "venv",
   "language": "python",
   "name": "python3"
  },
  "language_info": {
   "codemirror_mode": {
    "name": "ipython",
    "version": 3
   },
   "file_extension": ".py",
   "mimetype": "text/x-python",
   "name": "python",
   "nbconvert_exporter": "python",
   "pygments_lexer": "ipython3",
   "version": "3.12.3"
  }
 },
 "nbformat": 4,
 "nbformat_minor": 2
}
